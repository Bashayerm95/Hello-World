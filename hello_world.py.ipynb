{
 "cells": [
  {
   "cell_type": "code",
   "execution_count": 1,
   "id": "ce93cb89",
   "metadata": {},
   "outputs": [
    {
     "name": "stdout",
     "output_type": "stream",
     "text": [
      "Hello World\n"
     ]
    }
   ],
   "source": [
    "print(\"Hello World\")"
   ]
  },
  {
   "cell_type": "code",
   "execution_count": 2,
   "id": "6cec0fe2",
   "metadata": {},
   "outputs": [],
   "source": [
    "name = \"Beshayer\""
   ]
  },
  {
   "cell_type": "code",
   "execution_count": 5,
   "id": "8e2a5b41",
   "metadata": {},
   "outputs": [
    {
     "name": "stdout",
     "output_type": "stream",
     "text": [
      "a. Hello, Beshayer\n",
      "b. Hello,Beshayer\n"
     ]
    }
   ],
   "source": [
    "print(\"a. Hello,\", name)\n",
    "print(\"b. Hello,\" + name)"
   ]
  },
  {
   "cell_type": "code",
   "execution_count": 8,
   "id": "314add1e",
   "metadata": {},
   "outputs": [],
   "source": [
    "name1 = 42"
   ]
  },
  {
   "cell_type": "code",
   "execution_count": 13,
   "id": "5e2e0dc8",
   "metadata": {},
   "outputs": [
    {
     "name": "stdout",
     "output_type": "stream",
     "text": [
      "a. Hello, 42\n",
      "b. Hello, Beshayer\n"
     ]
    }
   ],
   "source": [
    "print(\"a. Hello,\", name1)\n",
    "print(\"b. Hello, \" + name)"
   ]
  },
  {
   "cell_type": "code",
   "execution_count": 14,
   "id": "e1d17f4c",
   "metadata": {},
   "outputs": [],
   "source": [
    "favNum = 2.718"
   ]
  },
  {
   "cell_type": "code",
   "execution_count": 15,
   "id": "e73e9c90",
   "metadata": {},
   "outputs": [
    {
     "name": "stdout",
     "output_type": "stream",
     "text": [
      "Hello,  2.718\n",
      "Hello, 2.718\n"
     ]
    }
   ],
   "source": [
    "print(\"Hello, \", favNum)\n",
    "print(\"Hello,\", str(favNum))"
   ]
  },
  {
   "cell_type": "code",
   "execution_count": 16,
   "id": "006bf164",
   "metadata": {},
   "outputs": [],
   "source": [
    "favNum2 = 3.14159"
   ]
  },
  {
   "cell_type": "code",
   "execution_count": 48,
   "id": "13668f64",
   "metadata": {},
   "outputs": [
    {
     "name": "stdout",
     "output_type": "stream",
     "text": [
      "Hello+  3.14159\n",
      "Hello+ 3.14159\n"
     ]
    }
   ],
   "source": [
    "print(\"Hello+ \", favNum2)\n",
    "print(\"Hello+\", str(favNum2))"
   ]
  },
  {
   "cell_type": "code",
   "execution_count": 44,
   "id": "f7bd41af",
   "metadata": {},
   "outputs": [],
   "source": [
    "fave_food1 = \"sushi\"\n",
    "fave_food2 = \"pizza\""
   ]
  },
  {
   "cell_type": "code",
   "execution_count": 41,
   "id": "78b6c9e6",
   "metadata": {},
   "outputs": [
    {
     "name": "stdout",
     "output_type": "stream",
     "text": [
      "a. My two favotie foods are sushi and pizza.\n",
      "b. My two favotie foods are sushi and pizza.\n"
     ]
    }
   ],
   "source": [
    "print( \"a. My two favotie foods are {} and {}.\" .format(fave_food1,fave_food2))\n",
    "print( f\"b. My two favotie foods are {fave_food1} and {fave_food2}.\" )"
   ]
  },
  {
   "cell_type": "code",
   "execution_count": null,
   "id": "a3dff22e",
   "metadata": {},
   "outputs": [],
   "source": []
  }
 ],
 "metadata": {
  "kernelspec": {
   "display_name": "Python 3",
   "language": "python",
   "name": "python3"
  },
  "language_info": {
   "codemirror_mode": {
    "name": "ipython",
    "version": 3
   },
   "file_extension": ".py",
   "mimetype": "text/x-python",
   "name": "python",
   "nbconvert_exporter": "python",
   "pygments_lexer": "ipython3",
   "version": "3.8.8"
  }
 },
 "nbformat": 4,
 "nbformat_minor": 5
}
